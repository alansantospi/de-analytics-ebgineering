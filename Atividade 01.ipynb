{
 "cells": [
  {
   "cell_type": "markdown",
   "id": "3503bb91",
   "metadata": {},
   "source": [
    "# Exercícios"
   ]
  },
  {
   "cell_type": "markdown",
   "id": "260f828d",
   "metadata": {},
   "source": [
    "1. Crie um dataframe de tax_data_2016.csv que usa apenas as colunas específicas necessárias para ver se há diferenças por geografia e nível de renda na composição familiar.\n",
    "Para fazer isso, selecione as colunas sobre grupo de renda, são elas: CEP (zipcode), status de declaração de imposto de renda (coluna mars1 para solteiro e MARS2 para casado), e  NUMDEP (número de dependentes). \n",
    "\n"
   ]
  },
  {
   "cell_type": "code",
   "execution_count": null,
   "id": "a1551064",
   "metadata": {},
   "outputs": [],
   "source": []
  },
  {
   "cell_type": "markdown",
   "id": "87bdcc3d",
   "metadata": {},
   "source": [
    "2. Obtenha as primeiras 500 linhas em um dataframe chamado primeiras500. \n",
    "Em seguida obtenha as próximas 500 linhas em um dataframe proximas500. \n",
    "\n",
    "Para fazer isso, use os argumentos ``nrows`` e  ``skiprows`` para obter os registros corretos, \n",
    "``header`` para informar aos pandas que os dados não têm nomes de colunas e ``names`` para fornecer os nomes de colunas ausentes. \n",
    "    \n",
    "Depois, nomeie as colunas em proximos500 fornecendo uma lista de colunas de primeiros500 para o argumento ``names``.\n",
    "Use a função list() para obter nomes de coluna de primeiros500."
   ]
  },
  {
   "cell_type": "markdown",
   "id": "594f19ab",
   "metadata": {},
   "source": [
    "3. Carregue o arquivo tax_data_2016.csv, visualize o atributo dtypes do dataframe e observe os tipos de dados de CEP e agi_stub.\n",
    "\n"
   ]
  },
  {
   "cell_type": "code",
   "execution_count": null,
   "id": "1b22a58d",
   "metadata": {},
   "outputs": [],
   "source": []
  },
  {
   "cell_type": "markdown",
   "id": "ac535591",
   "metadata": {},
   "source": [
    "4. Você deve ter observado que a coluna agi_stub contém números que correspondem a categorias de renda, e CEP tem valores de 5 dígitos que devem ser strings \n",
    "-- tratá-los como inteiros significa que perdemos 0s iniciais, que são significativos. \n",
    "\n",
    "Defina os tipos de dados corretos criando um dicionario chamado null_values, especificando que 0s na coluna CEP devem ser considerados valores NA.\n",
    "\n",
    "Depois, carregue tax_data_2016.csv, usando o argumento na_values e o dicionário para garantir que CEPs inválidos sejam tratados como ausentes.\n"
   ]
  },
  {
   "cell_type": "code",
   "execution_count": null,
   "id": "2ef5c533",
   "metadata": {},
   "outputs": [],
   "source": []
  },
  {
   "cell_type": "markdown",
   "id": "7bed8679",
   "metadata": {},
   "source": [
    "5. Leia o arquivo fcc_survey.xlsx, atribua-o à variável survey_responses e imprima os primeiros registros de survey_responses."
   ]
  },
  {
   "cell_type": "code",
   "execution_count": null,
   "id": "39619b21",
   "metadata": {},
   "outputs": [],
   "source": []
  },
  {
   "cell_type": "markdown",
   "id": "4a54eb41",
   "metadata": {},
   "source": [
    "6. Crie uma string chamada col_string, especificando que os pandas devem carregar a coluna AD e o intervalo AW até BA.\n",
    "Carregue fcc_survey.xlsx, definindo ``skiprows`` e ``usecols`` para ignorar as duas primeiras linhas e obter apenas as colunas em col_string.\n",
    "Visualize os nomes das colunas selecionadas no dataframe resultante."
   ]
  },
  {
   "cell_type": "code",
   "execution_count": null,
   "id": "fec49abb",
   "metadata": {},
   "outputs": [],
   "source": []
  },
  {
   "cell_type": "markdown",
   "id": "38dfd251",
   "metadata": {},
   "source": [
    "7. Crie um dataframe da segunda planilha passando a posição da aba para ``sheet_name``.\n"
   ]
  },
  {
   "cell_type": "code",
   "execution_count": null,
   "id": "84f3ce49",
   "metadata": {},
   "outputs": [],
   "source": []
  },
  {
   "cell_type": "markdown",
   "id": "8f9582c5",
   "metadata": {},
   "source": [
    "8. Carregue as planilhas de 2016 e 2017 por nome."
   ]
  },
  {
   "cell_type": "code",
   "execution_count": null,
   "id": "e15b44f3",
   "metadata": {},
   "outputs": [],
   "source": []
  },
  {
   "cell_type": "markdown",
   "id": "13f250a6",
   "metadata": {},
   "source": [
    "9. Crie um dataframe vazio, chamado df_respostas. Faça um loop for para percorrer os valores no dicionário. \n",
    "Adicione cada dataframe a df_respostas e reatribua o resultado à mesma variável."
   ]
  }
 ],
 "metadata": {
  "kernelspec": {
   "display_name": "Python 3",
   "language": "python",
   "name": "python3"
  },
  "language_info": {
   "codemirror_mode": {
    "name": "ipython",
    "version": 3
   },
   "file_extension": ".py",
   "mimetype": "text/x-python",
   "name": "python",
   "nbconvert_exporter": "python",
   "pygments_lexer": "ipython3",
   "version": "3.9.1"
  }
 },
 "nbformat": 4,
 "nbformat_minor": 5
}
