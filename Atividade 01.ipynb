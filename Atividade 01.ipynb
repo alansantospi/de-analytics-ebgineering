{
 "cells": [
  {
   "cell_type": "markdown",
   "id": "f926db46",
   "metadata": {},
   "source": [
    "# Exercícios"
   ]
  },
  {
   "cell_type": "markdown",
   "id": "1ce9041f",
   "metadata": {},
   "source": [
    "1. Crie um dataframe de tax_data_2016.csv que usa apenas as colunas específicas necessárias para ver se há diferenças por geografia e nível de renda na composição familiar.\n",
    "Para fazer isso, selecione as colunas sobre grupo de renda, são elas: CEP (zipcode), status de declaração de imposto de renda (coluna mars1 para solteiro e MARS2 para casado), e  NUMDEP (número de dependentes). \n",
    "\n"
   ]
  },
  {
   "cell_type": "code",
   "execution_count": null,
   "id": "b4efb1c8",
   "metadata": {},
   "outputs": [],
   "source": []
  },
  {
   "cell_type": "markdown",
   "id": "5749f89e",
   "metadata": {},
   "source": [
    "2. Obtenha as primeiras 500 linhas em um dataframe chamado primeiras500. \n",
    "Em seguida obtenha as próximas 500 linhas em um dataframe proximas500. \n",
    "\n",
    "Para fazer isso, use os argumentos ``nrows`` e  ``skiprows`` para obter os registros corretos, \n",
    "``header`` para informar aos pandas que os dados não têm nomes de colunas e ``names`` para fornecer os nomes de colunas ausentes. \n",
    "    \n",
    "Depois, nomeie as colunas em proximos500 fornecendo uma lista de colunas de primeiros500 para o argumento ``names``.\n",
    "Use a função list() para obter nomes de coluna de primeiros500."
   ]
  },
  {
   "cell_type": "code",
   "execution_count": null,
   "id": "d6cac318",
   "metadata": {},
   "outputs": [],
   "source": [
    "3. Carregue o arquivo tax_data_2016.csv, visualize o atributo dtypes do dataframe e observe os tipos de dados de CEP e agi_stub.\n",
    "\n"
   ]
  },
  {
   "cell_type": "code",
   "execution_count": null,
   "id": "978b51be",
   "metadata": {},
   "outputs": [],
   "source": []
  },
  {
   "cell_type": "markdown",
   "id": "eff7eb0c",
   "metadata": {},
   "source": [
    "4. Você deve ter observado que a coluna agi_stub contém números que correspondem a categorias de renda, e CEP tem valores de 5 dígitos que devem ser strings \n",
    "-- tratá-los como inteiros significa que perdemos 0s iniciais, que são significativos. \n",
    "\n",
    "Defina os tipos de dados corretos criando um dicionario chamado null_values, especificando que 0s na coluna CEP devem ser considerados valores NA.\n",
    "\n",
    "Depois, carregue tax_data_2016.csv, usando o argumento na_values e o dicionário para garantir que CEPs inválidos sejam tratados como ausentes.\n"
   ]
  },
  {
   "cell_type": "code",
   "execution_count": null,
   "id": "5d72b375",
   "metadata": {},
   "outputs": [],
   "source": []
  },
  {
   "cell_type": "markdown",
   "id": "83dd83e9",
   "metadata": {},
   "source": [
    "5. Leia o arquivo fcc_survey.xlsx, atribua-o à variável survey_responses e imprima os primeiros registros de survey_responses."
   ]
  },
  {
   "cell_type": "code",
   "execution_count": null,
   "id": "331d413e",
   "metadata": {},
   "outputs": [],
   "source": []
  },
  {
   "cell_type": "markdown",
   "id": "fcbd12d8",
   "metadata": {},
   "source": [
    "6. Crie uma string chamada col_string, especificando que os pandas devem carregar a coluna AD e o intervalo AW até BA.\n",
    "Carregue fcc_survey.xlsx, definindo ``skiprows`` e ``usecols`` para ignorar as duas primeiras linhas e obter apenas as colunas em col_string.\n",
    "Visualize os nomes das colunas selecionadas no dataframe resultante."
   ]
  },
  {
   "cell_type": "code",
   "execution_count": null,
   "id": "3d651130",
   "metadata": {},
   "outputs": [],
   "source": []
  }
 ],
 "metadata": {
  "kernelspec": {
   "display_name": "Python 3",
   "language": "python",
   "name": "python3"
  },
  "language_info": {
   "codemirror_mode": {
    "name": "ipython",
    "version": 3
   },
   "file_extension": ".py",
   "mimetype": "text/x-python",
   "name": "python",
   "nbconvert_exporter": "python",
   "pygments_lexer": "ipython3",
   "version": "3.9.1"
  }
 },
 "nbformat": 4,
 "nbformat_minor": 5
}
