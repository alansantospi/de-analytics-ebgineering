{
 "cells": [
  {
   "cell_type": "markdown",
   "id": "encouraging-liechtenstein",
   "metadata": {},
   "source": [
    "# Aula 02"
   ]
  },
  {
   "cell_type": "markdown",
   "id": "diagnostic-business",
   "metadata": {},
   "source": [
    "## Instalando as bibliotecas necessárias\n",
    "\n",
    "Antes de começar, precisamos importar as bibliotecas necessárias"
   ]
  },
  {
   "cell_type": "code",
   "execution_count": null,
   "id": "collect-center",
   "metadata": {
    "scrolled": true
   },
   "outputs": [],
   "source": [
    "!pip install pandas\n",
    "!pip install Faker"
   ]
  },
  {
   "cell_type": "markdown",
   "id": "alternate-candidate",
   "metadata": {},
   "source": [
    "## Modelagem de tabelas especializadas com dados agrupados e/ou sumarizados."
   ]
  },
  {
   "cell_type": "code",
   "execution_count": null,
   "id": "elementary-grill",
   "metadata": {},
   "outputs": [],
   "source": [
    "import pandas as pd\n",
    "import numpy as np\n",
    "\n",
    "path = 'data/sales_data_sample.csv'\n",
    "sales_df = pd.read_csv(path)\n",
    "sales_df.head()"
   ]
  },
  {
   "cell_type": "code",
   "execution_count": null,
   "id": "talented-disaster",
   "metadata": {
    "scrolled": true
   },
   "outputs": [],
   "source": [
    "sales_df.info()"
   ]
  },
  {
   "cell_type": "code",
   "execution_count": null,
   "id": "impaired-girlfriend",
   "metadata": {
    "scrolled": true
   },
   "outputs": [],
   "source": [
    "sales_df.isna().sum()"
   ]
  },
  {
   "cell_type": "code",
   "execution_count": null,
   "id": "unsigned-pepper",
   "metadata": {},
   "outputs": [],
   "source": [
    "sales_df.duplicated().sum()\n",
    "sales_df.sum()"
   ]
  },
  {
   "cell_type": "code",
   "execution_count": null,
   "id": "following-diamond",
   "metadata": {},
   "outputs": [],
   "source": [
    "sales_df2 = sales_df[['ORDERNUMBER', 'QUANTITYORDERED', 'PRODUCTLINE', ]]\n",
    "sales_df2\n",
    "\n",
    "sales_df3 = sales_df2[sales_df2['QUANTITYORDERED'] > 30 ]\n",
    "sales_df3"
   ]
  },
  {
   "cell_type": "code",
   "execution_count": null,
   "id": "flexible-fifty",
   "metadata": {},
   "outputs": [],
   "source": [
    "sales_df3[sales_df3['QUANTITYORDERED'] == 30]"
   ]
  },
  {
   "cell_type": "code",
   "execution_count": null,
   "id": "dramatic-cabinet",
   "metadata": {
    "scrolled": true
   },
   "outputs": [],
   "source": [
    "sales_df.drop_duplicates(inplace=True)\n",
    "sales_df.info()"
   ]
  },
  {
   "cell_type": "markdown",
   "id": "beginning-powder",
   "metadata": {},
   "source": [
    "### Criando um dataset manualmente"
   ]
  },
  {
   "cell_type": "code",
   "execution_count": null,
   "id": "palestinian-nevada",
   "metadata": {},
   "outputs": [],
   "source": [
    "df_manual = pd.DataFrame({\n",
    "    'nome': ['Ana', 'Maria', 'João'],\n",
    "    'idade': [18, 35, 23],\n",
    "                         \n",
    "                         })\n",
    "df_manual"
   ]
  },
  {
   "cell_type": "markdown",
   "id": "sharp-bracket",
   "metadata": {},
   "source": [
    "### Criando um dataset fake"
   ]
  },
  {
   "cell_type": "code",
   "execution_count": null,
   "id": "thousand-zealand",
   "metadata": {
    "scrolled": true
   },
   "outputs": [],
   "source": [
    "from faker import Faker\n",
    "\n",
    "fake = Faker()\n",
    "\n",
    "fake_df = pd.DataFrame({\n",
    "    'date': [fake.date() for i in range(10)],\n",
    "    'name': [fake.name() for i in range(10)],\n",
    "    'email': [fake.email() for i in range(10)]\n",
    "})\n",
    "\n",
    "fake_df"
   ]
  },
  {
   "cell_type": "markdown",
   "id": "controlled-supervision",
   "metadata": {},
   "source": [
    "### Escolha um dataset e realize as operações a seguir:"
   ]
  },
  {
   "cell_type": "markdown",
   "id": "complimentary-typing",
   "metadata": {},
   "source": [
    "#### Mostrar o resumo dos dados"
   ]
  },
  {
   "cell_type": "markdown",
   "id": "statewide-emergency",
   "metadata": {},
   "source": [
    "#### Exibir o total de valores nulos para cada coluna"
   ]
  },
  {
   "cell_type": "code",
   "execution_count": null,
   "id": "still-crystal",
   "metadata": {},
   "outputs": [],
   "source": [
    "sales_df['QUANTITYORDERED'].fillna( sales_df['QUANTITYORDERED'].mean() , inplace=True)"
   ]
  },
  {
   "cell_type": "markdown",
   "id": "mature-framework",
   "metadata": {},
   "source": [
    "#### Exibir o total de duplicados"
   ]
  },
  {
   "cell_type": "markdown",
   "id": "approved-armor",
   "metadata": {},
   "source": [
    "### Harmonizando dados"
   ]
  },
  {
   "cell_type": "markdown",
   "id": "complex-offset",
   "metadata": {},
   "source": [
    "#### Fonte de dados: https://www.imdb.com/interfaces/"
   ]
  },
  {
   "cell_type": "code",
   "execution_count": null,
   "id": "correct-pressure",
   "metadata": {},
   "outputs": [],
   "source": [
    "path_titles = 'data/titles.tsv'\n",
    "# importando os datasets\n",
    "ratings_df = pd.read_csv(path_titles, sep='\\t')\n"
   ]
  },
  {
   "cell_type": "code",
   "execution_count": null,
   "id": "distributed-beverage",
   "metadata": {},
   "outputs": [],
   "source": [
    "ratings_df"
   ]
  },
  {
   "cell_type": "code",
   "execution_count": null,
   "id": "entire-coral",
   "metadata": {},
   "outputs": [],
   "source": [
    "ratings_df.describe()"
   ]
  },
  {
   "cell_type": "code",
   "execution_count": null,
   "id": "fresh-smart",
   "metadata": {},
   "outputs": [],
   "source": [
    "ratings_df.info()"
   ]
  },
  {
   "cell_type": "code",
   "execution_count": null,
   "id": "latter-windsor",
   "metadata": {},
   "outputs": [],
   "source": [
    "titles_df = pd.read_csv(path_titles, sep='\\t', low_memory=False)"
   ]
  },
  {
   "cell_type": "code",
   "execution_count": null,
   "id": "solved-hypothetical",
   "metadata": {
    "scrolled": true
   },
   "outputs": [],
   "source": [
    "titles_df.describe()"
   ]
  },
  {
   "cell_type": "code",
   "execution_count": null,
   "id": "hawaiian-census",
   "metadata": {},
   "outputs": [],
   "source": [
    "titles_df.head()"
   ]
  },
  {
   "cell_type": "code",
   "execution_count": null,
   "id": "hungry-netherlands",
   "metadata": {
    "scrolled": true
   },
   "outputs": [],
   "source": [
    "merged_df = pd.merge(titles_df, ratings_df, on='tconst')\n",
    "merged_df.head()"
   ]
  },
  {
   "cell_type": "code",
   "execution_count": null,
   "id": "romance-imagination",
   "metadata": {
    "scrolled": true
   },
   "outputs": [],
   "source": [
    "harmonized_df = merged_df.loc[:, ['primaryTitle', 'averageRating']]\n",
    "harmonized_df.head()"
   ]
  },
  {
   "cell_type": "code",
   "execution_count": null,
   "id": "advance-arnold",
   "metadata": {},
   "outputs": [],
   "source": [
    "harmonized_df.head()"
   ]
  },
  {
   "cell_type": "code",
   "execution_count": null,
   "id": "banned-prescription",
   "metadata": {},
   "outputs": [],
   "source": [
    "grouped_df = harmonized_df.groupby(['averageRating'])"
   ]
  },
  {
   "cell_type": "code",
   "execution_count": null,
   "id": "constant-perry",
   "metadata": {},
   "outputs": [],
   "source": [
    "grouped_df.head()"
   ]
  },
  {
   "cell_type": "code",
   "execution_count": null,
   "id": "packed-second",
   "metadata": {},
   "outputs": [],
   "source": [
    "type(grouped_df.groups)"
   ]
  },
  {
   "cell_type": "code",
   "execution_count": null,
   "id": "sexual-mention",
   "metadata": {},
   "outputs": [],
   "source": [
    "df = grouped_df.groups.values()\n",
    "df"
   ]
  },
  {
   "cell_type": "code",
   "execution_count": null,
   "id": "federal-mailing",
   "metadata": {},
   "outputs": [],
   "source": [
    "harmonized_df = harmonized_df.sort_values(by=['averageRating'], ascending=True)\n",
    "harmonized_df.head()"
   ]
  },
  {
   "cell_type": "markdown",
   "id": "grave-effects",
   "metadata": {},
   "source": [
    "### Baixe o dataset com informações da equipe técnica dos filmes (title.crew.tsv.gz) e realize as seguinte operações"
   ]
  },
  {
   "cell_type": "markdown",
   "id": "lightweight-logan",
   "metadata": {},
   "source": [
    "#### Gere um novo dataset contendo filme e diretor"
   ]
  },
  {
   "cell_type": "code",
   "execution_count": null,
   "id": "colonial-registration",
   "metadata": {},
   "outputs": [],
   "source": [
    "crew_df = pd.read_csv('data/crew.tsv', delim_whitespace=True)\n",
    "crew_df.head()"
   ]
  },
  {
   "cell_type": "code",
   "execution_count": null,
   "id": "quiet-influence",
   "metadata": {},
   "outputs": [],
   "source": [
    "merged = pd.merge(pd.merge(titles_df, crew_df,on=\"tconst\",how=\"left\"),ratings_df,on=\"tconst\",how=\"left\")\n",
    "merged.head(10)"
   ]
  }
 ],
 "metadata": {
  "kernelspec": {
   "display_name": "Python 3",
   "language": "python",
   "name": "python3"
  },
  "language_info": {
   "codemirror_mode": {
    "name": "ipython",
    "version": 3
   },
   "file_extension": ".py",
   "mimetype": "text/x-python",
   "name": "python",
   "nbconvert_exporter": "python",
   "pygments_lexer": "ipython3",
   "version": "3.9.1"
  }
 },
 "nbformat": 4,
 "nbformat_minor": 5
}
