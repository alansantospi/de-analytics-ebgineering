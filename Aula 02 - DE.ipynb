{
 "cells": [
  {
   "cell_type": "markdown",
   "id": "encouraging-liechtenstein",
   "metadata": {},
   "source": [
    "# Aula 02"
   ]
  },
  {
   "cell_type": "markdown",
   "id": "diagnostic-business",
   "metadata": {},
   "source": [
    "## Instalando as bibliotecas necessárias\n",
    "\n",
    "Antes de começar, precisamos importar as bibliotecas necessárias"
   ]
  },
  {
   "cell_type": "markdown",
   "id": "alternate-candidate",
   "metadata": {},
   "source": [
    "## Modelagem de tabelas especializadas com dados agrupados e/ou sumarizados."
   ]
  },
  {
   "cell_type": "markdown",
   "id": "chinese-donna",
   "metadata": {},
   "source": [
    "## Técnicas de limpeza de dados para geração de tabelas harmonizadas e especializadas."
   ]
  }
 ],
 "metadata": {
  "kernelspec": {
   "display_name": "Python 3",
   "language": "python",
   "name": "python3"
  },
  "language_info": {
   "codemirror_mode": {
    "name": "ipython",
    "version": 3
   },
   "file_extension": ".py",
   "mimetype": "text/x-python",
   "name": "python",
   "nbconvert_exporter": "python",
   "pygments_lexer": "ipython3",
   "version": "3.9.1"
  }
 },
 "nbformat": 4,
 "nbformat_minor": 5
}
