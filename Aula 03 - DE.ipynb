{
 "cells": [
  {
   "cell_type": "markdown",
   "id": "english-publicity",
   "metadata": {},
   "source": [
    "# Obtendo dados com pandas"
   ]
  },
  {
   "cell_type": "markdown",
   "id": "personal-livestock",
   "metadata": {},
   "source": [
    "## 1. Importando dados de um csv"
   ]
  },
  {
   "cell_type": "markdown",
   "id": "national-bowling",
   "metadata": {},
   "source": [
    "### Lendo o arquivo localmente"
   ]
  },
  {
   "cell_type": "code",
   "execution_count": null,
   "id": "different-being",
   "metadata": {
    "scrolled": false
   },
   "outputs": [],
   "source": []
  },
  {
   "cell_type": "code",
   "execution_count": null,
   "id": "governing-particular",
   "metadata": {},
   "outputs": [],
   "source": []
  },
  {
   "cell_type": "markdown",
   "id": "assured-italian",
   "metadata": {},
   "source": [
    "### Lendo de uma url"
   ]
  },
  {
   "cell_type": "code",
   "execution_count": null,
   "id": "comparable-hebrew",
   "metadata": {},
   "outputs": [],
   "source": []
  },
  {
   "cell_type": "markdown",
   "id": "controlled-brother",
   "metadata": {},
   "source": [
    "### Modificando importações de arquivo csv"
   ]
  },
  {
   "cell_type": "markdown",
   "id": "dedicated-cycling",
   "metadata": {},
   "source": [
    "#### Limitando Colunas\n",
    "Para escolher as colunas que deseja carregar, use o argumento ```usecols```\n",
    "\n",
    "Você pode definir uma lista de números ou nomes de colunas ou uma função para filtrar nomes de colunas"
   ]
  },
  {
   "cell_type": "code",
   "execution_count": null,
   "id": "entertaining-cathedral",
   "metadata": {
    "scrolled": true
   },
   "outputs": [],
   "source": []
  },
  {
   "cell_type": "markdown",
   "id": "radio-render",
   "metadata": {},
   "source": [
    "Limite o número de linhas carregadas com o argumento ```nrows```"
   ]
  },
  {
   "cell_type": "code",
   "execution_count": null,
   "id": "bridal-australia",
   "metadata": {},
   "outputs": [],
   "source": []
  },
  {
   "cell_type": "markdown",
   "id": "governing-stack",
   "metadata": {},
   "source": [
    "Use ``nrows`` e ``skiprows`` para processar um arquivo em partes\n",
    "\n",
    "``skiprows`` aceita uma lista de números de linha, um número de linhas ou uma função para filtrar linhas\n",
    "\n",
    "``header=None`` indica para o pandas que não há nomes de colunas"
   ]
  },
  {
   "cell_type": "code",
   "execution_count": null,
   "id": "associate-conversation",
   "metadata": {},
   "outputs": [],
   "source": []
  },
  {
   "cell_type": "markdown",
   "id": "particular-manchester",
   "metadata": {},
   "source": [
    "#### Atribuindo Nomes de Colunas"
   ]
  },
  {
   "cell_type": "markdown",
   "id": "unexpected-peace",
   "metadata": {},
   "source": [
    "Forneça nomes de coluna passando uma lista para o argumento ``names``.\n",
    "\n",
    "A lista DEVE ter um nome para cada coluna em seus dados.\n",
    "\n",
    "Se você só precisa renomear algumas colunas, faça isso depois de carregar os dados."
   ]
  },
  {
   "cell_type": "code",
   "execution_count": null,
   "id": "negative-import",
   "metadata": {
    "scrolled": false
   },
   "outputs": [],
   "source": []
  },
  {
   "cell_type": "markdown",
   "id": "perfect-living",
   "metadata": {},
   "source": [
    "### Tratamento de erros e falta de dados"
   ]
  },
  {
   "cell_type": "markdown",
   "id": "homeless-ecuador",
   "metadata": {},
   "source": [
    "#### Problemas comuns de importação de arquivos"
   ]
  },
  {
   "cell_type": "markdown",
   "id": "needed-scholarship",
   "metadata": {},
   "source": [
    "- Tipos de dados da coluna errados\n",
    "\n",
    "- Valores  faltando\n",
    "\n",
    "- Registros que não podem ser lidos"
   ]
  },
  {
   "cell_type": "markdown",
   "id": "beneficial-typing",
   "metadata": {},
   "source": [
    "#### Especificando tipos de dados"
   ]
  },
  {
   "cell_type": "markdown",
   "id": "vital-david",
   "metadata": {},
   "source": [
    "O pandas infere automaticamente tipos de dados das colunas"
   ]
  },
  {
   "cell_type": "code",
   "execution_count": null,
   "id": "removable-sucking",
   "metadata": {
    "scrolled": true
   },
   "outputs": [],
   "source": []
  },
  {
   "cell_type": "markdown",
   "id": "disciplinary-salvation",
   "metadata": {},
   "source": [
    "Use a palavra-chave ``dtype`` para especificar os tipos de dados de uma coluna\n",
    "\n",
    "``dtype`` aceita como parâmetro um dicionário de nomes de colunas e tipos de dados"
   ]
  },
  {
   "cell_type": "code",
   "execution_count": null,
   "id": "wireless-console",
   "metadata": {},
   "outputs": [],
   "source": []
  },
  {
   "cell_type": "markdown",
   "id": "combined-buffalo",
   "metadata": {},
   "source": [
    "#### Customizando valores de dados ausentes"
   ]
  },
  {
   "cell_type": "markdown",
   "id": "informative-original",
   "metadata": {},
   "source": [
    "O pandas interpreta automaticamente alguns valores como ausentes ou NA"
   ]
  },
  {
   "cell_type": "code",
   "execution_count": null,
   "id": "connected-plenty",
   "metadata": {},
   "outputs": [],
   "source": []
  },
  {
   "cell_type": "markdown",
   "id": "experienced-cheese",
   "metadata": {},
   "source": [
    "Usamos a palavra-chave ``na_values`` para definir valores ausentes personalizados\n",
    "\n",
    "Podemos passar um único valor, uma lista ou um dicionário de colunas e valores"
   ]
  },
  {
   "cell_type": "code",
   "execution_count": null,
   "id": "capital-recruitment",
   "metadata": {
    "scrolled": true
   },
   "outputs": [],
   "source": []
  },
  {
   "cell_type": "markdown",
   "id": "korean-tolerance",
   "metadata": {},
   "source": [
    "#### Linhas com Erros"
   ]
  },
  {
   "cell_type": "markdown",
   "id": "extensive-speech",
   "metadata": {},
   "source": [
    "Defina ``error_bad_lines=False`` para pular registros não analisáveis\n",
    "\n",
    "Defina ``warning_bad_lines=True`` para ver as mensagens quando os registros são ignorados"
   ]
  },
  {
   "cell_type": "code",
   "execution_count": null,
   "id": "loaded-scholarship",
   "metadata": {},
   "outputs": [],
   "source": []
  },
  {
   "cell_type": "markdown",
   "id": "descending-executive",
   "metadata": {},
   "source": [
    "## 2. Carregando planilhas"
   ]
  },
  {
   "cell_type": "markdown",
   "id": "exterior-capitol",
   "metadata": {},
   "source": [
    "As planilhas têm sua própria função de carregamento no pandas: ``read_excel()``"
   ]
  },
  {
   "cell_type": "code",
   "execution_count": null,
   "id": "parallel-puppy",
   "metadata": {},
   "outputs": [],
   "source": []
  },
  {
   "cell_type": "markdown",
   "id": "institutional-baker",
   "metadata": {},
   "source": [
    "### Carregando colunas e linhas selecionadas\n",
    "\n",
    "``read_excel()`` tem muitos argumentos em comum com ``read_csv()``\n",
    "- ``nrows``: limita o número de linhas para carregar\n",
    "- ``skiprows``: especifica a quantidade de linhas ou números de linha a serem ignorados\n",
    "- ``usecols``: seleciona colunas por nome, número posicional ou letra"
   ]
  },
  {
   "cell_type": "code",
   "execution_count": null,
   "id": "alternate-jamaica",
   "metadata": {},
   "outputs": [],
   "source": []
  },
  {
   "cell_type": "markdown",
   "id": "incorrect-superintendent",
   "metadata": {},
   "source": [
    "### Obtendo dados de várias planilhas\n",
    "#### Selecionando uma única aba\n",
    "Por padrão, a função ``read_excel()`` carrega a primeira planilha de um arquivo Excel\n",
    "\n",
    "Para carregar outras planilhas, devemos usar o argumento ``sheet_name``\n",
    "\n",
    "Podemos especificar planilhas por nome e/ou número de posição (indexado por zero)\n",
    "\n",
    "Passe uma lista de nomes/números para carregar mais de uma aba por vez\n",
    "\n",
    "Quaisquer argumentos passados para ``read_excel()`` se aplicam a todas as planilhas lidas"
   ]
  },
  {
   "cell_type": "code",
   "execution_count": null,
   "id": "arranged-socket",
   "metadata": {},
   "outputs": [],
   "source": []
  },
  {
   "cell_type": "markdown",
   "id": "respective-recognition",
   "metadata": {},
   "source": [
    "### Selecionando várias abas"
   ]
  },
  {
   "cell_type": "code",
   "execution_count": null,
   "id": "single-calgary",
   "metadata": {},
   "outputs": [],
   "source": []
  },
  {
   "cell_type": "markdown",
   "id": "completed-lancaster",
   "metadata": {},
   "source": [
    "### Trabalhando com várias planilhas"
   ]
  },
  {
   "cell_type": "code",
   "execution_count": null,
   "id": "pharmaceutical-benefit",
   "metadata": {},
   "outputs": [],
   "source": []
  },
  {
   "cell_type": "markdown",
   "id": "least-conclusion",
   "metadata": {},
   "source": [
    "### Carregando todas as abas\n",
    "\n",
    "Passando ``sheet_name=None`` para ``read_excel()`` lê todas as planilhas em uma pasta de trabalho"
   ]
  },
  {
   "cell_type": "code",
   "execution_count": null,
   "id": "reduced-edinburgh",
   "metadata": {},
   "outputs": [],
   "source": []
  },
  {
   "cell_type": "markdown",
   "id": "military-palace",
   "metadata": {},
   "source": [
    "### Juntando tudo"
   ]
  },
  {
   "cell_type": "code",
   "execution_count": null,
   "id": "another-adelaide",
   "metadata": {},
   "outputs": [],
   "source": []
  },
  {
   "cell_type": "markdown",
   "id": "valid-cover",
   "metadata": {},
   "source": [
    "## 3. Conectando a um Banco de Dados"
   ]
  },
  {
   "cell_type": "code",
   "execution_count": null,
   "id": "worse-veteran",
   "metadata": {},
   "outputs": [],
   "source": []
  }
 ],
 "metadata": {
  "kernelspec": {
   "display_name": "Python 3",
   "language": "python",
   "name": "python3"
  },
  "language_info": {
   "codemirror_mode": {
    "name": "ipython",
    "version": 3
   },
   "file_extension": ".py",
   "mimetype": "text/x-python",
   "name": "python",
   "nbconvert_exporter": "python",
   "pygments_lexer": "ipython3",
   "version": "3.9.1"
  }
 },
 "nbformat": 4,
 "nbformat_minor": 5
}
