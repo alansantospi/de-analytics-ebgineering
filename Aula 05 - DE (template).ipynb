{
 "cells": [
  {
   "cell_type": "markdown",
   "id": "8ca72945",
   "metadata": {},
   "source": [
    "# Great Expectations"
   ]
  },
  {
   "cell_type": "markdown",
   "id": "57dc18d2",
   "metadata": {},
   "source": [
    "## Instalando"
   ]
  },
  {
   "cell_type": "code",
   "execution_count": null,
   "id": "c7a19eae",
   "metadata": {},
   "outputs": [],
   "source": [
    "!pip install great_expectations"
   ]
  },
  {
   "cell_type": "markdown",
   "id": "0a091dae",
   "metadata": {},
   "source": [
    "## Validando os dados"
   ]
  },
  {
   "cell_type": "markdown",
   "id": "bc5fdd5c",
   "metadata": {},
   "source": [
    "Validamos o conjunto de dados com a suíte de expectativas. \n",
    "\n",
    "Em seguida, verificamos se a validação foi bem-sucedida verificando o atributo success do objeto ExpectationValidationResult"
   ]
  },
  {
   "cell_type": "markdown",
   "id": "67c6ee42",
   "metadata": {},
   "source": [
    "### Validação de valores únicos em uma coluna"
   ]
  },
  {
   "cell_type": "code",
   "execution_count": null,
   "id": "cf3eb7fc",
   "metadata": {},
   "outputs": [],
   "source": [
    "import great_expectations as ge\n",
    "import pandas as pd\n",
    "\n",
    "# Criação de um dataframe com uma coluna \"nome\" que deve conter apenas valores únicos\n",
    "df = pd.DataFrame({'nome': ['João', 'Maria', 'João', 'Pedro', 'Ana']})\n"
   ]
  },
  {
   "cell_type": "markdown",
   "id": "afc47ceb",
   "metadata": {},
   "source": [
    "Crie uma expectation que verifica se a coluna \"codigo\" contém apenas valores únicos.\n",
    "\n",
    "Use a função ``expect_column_unique`` para definir essa expectativa"
   ]
  },
  {
   "cell_type": "code",
   "execution_count": null,
   "id": "9443172a",
   "metadata": {},
   "outputs": [],
   "source": [
    "# Criando um dataframe com uma coluna \"codigo\" que deve conter valores únicos\n",
    "df = pd.DataFrame({'codigo': [1001, 1002, 1003, 1002, 1004, 1001]})"
   ]
  },
  {
   "cell_type": "code",
   "execution_count": null,
   "id": "3f14c92e",
   "metadata": {},
   "outputs": [],
   "source": []
  },
  {
   "cell_type": "markdown",
   "id": "7969e8e7",
   "metadata": {},
   "source": [
    "### Validação de valores mínimos e máximos em uma coluna numérica"
   ]
  },
  {
   "cell_type": "code",
   "execution_count": null,
   "id": "dbcbf61c",
   "metadata": {},
   "outputs": [],
   "source": [
    "# Criação de um dataframe com uma coluna \"idade\" que deve conter valores numéricos entre 0 e 100\n",
    "df = pd.DataFrame({'idade': [20, 25, 30, 35, 40, 45, 50, 55, 60, 65, 70, 75, 80, 85, 90, 95, 100, 105]})\n"
   ]
  },
  {
   "cell_type": "markdown",
   "id": "6a7f2c05",
   "metadata": {},
   "source": [
    "### Validação de formatos de data em uma coluna"
   ]
  },
  {
   "cell_type": "code",
   "execution_count": null,
   "id": "00ea2a29",
   "metadata": {
    "scrolled": true
   },
   "outputs": [],
   "source": [
    "# Criação de um dataframe com uma coluna \"data\" que deve conter datas no formato 'YYYY-MM-DD'\n",
    "df = pd.DataFrame({'data': ['2022-01-01', '2022-01-02', '2022-01-03', '2022-01-04', '2022-01-05']})\n",
    "\n"
   ]
  },
  {
   "cell_type": "markdown",
   "id": "3d71a8fb",
   "metadata": {},
   "source": [
    "### Validação de valores nulos em uma coluna\n",
    "\n",
    "Criaremos uma Expectation que verifica se a coluna \"salario\" não contém valores nulos"
   ]
  },
  {
   "cell_type": "code",
   "execution_count": null,
   "id": "a13d41c8",
   "metadata": {
    "scrolled": true
   },
   "outputs": [],
   "source": [
    "# Criação de um dataframe com uma coluna \"salario\" que não deve conter valores nulos\n",
    "df = pd.DataFrame({'salario': [2000, 2500, 3000, None, 4000, 4500]})\n",
    "\n"
   ]
  },
  {
   "cell_type": "markdown",
   "id": "bb652cb0",
   "metadata": {},
   "source": [
    "### Validação de formatos de string em uma coluna\n",
    "\n",
    "Vamos criar uma Expectation que verifica se a coluna \"cpf\" contém apenas CPFs no formato 'XXX.XXX.XXX-XX'. \n",
    "\n",
    "Usaremos a função ``expect_column_values_to_match_regex`` para definir essa expectativa."
   ]
  },
  {
   "cell_type": "code",
   "execution_count": null,
   "id": "c30ca7df",
   "metadata": {},
   "outputs": [],
   "source": [
    "import great_expectations as ge\n",
    "import pandas as pd\n",
    "\n",
    "# Criação de um dataframe com uma coluna \"cpf\" que deve conter CPFs no formato 'XXX.XXX.XXX-XX'\n",
    "df = pd.DataFrame({'cpf': ['123.456.789-10', '234.567.890-12', '345.678.901-23', '456.789.012-34', '567.890.123-45']})\n",
    "\n"
   ]
  },
  {
   "cell_type": "markdown",
   "id": "736de557",
   "metadata": {},
   "source": [
    "### Validação de valores numéricos em uma coluna\n",
    "\n",
    "Use a função ``expect_column_values_to_be_between`` para verificar se a coluna \"idade\" contém apenas valores entre 18 e 60 anos.\n",
    "\n",
    "Passamos os valores mínimo e máximo permitidos como argumentos. Em seguida, validamos o conjunto de dados com a suíte de expectativas e verificamos se a validação foi bem-sucedida.\n"
   ]
  },
  {
   "cell_type": "code",
   "execution_count": null,
   "id": "b08369c7",
   "metadata": {},
   "outputs": [],
   "source": [
    "# Criação de um dataframe com uma coluna \"idade\" que deve conter valores entre 18 e 60 anos\n",
    "df = pd.DataFrame({'idade': [25, 40, 50, 32, 18, 70]})\n",
    "\n"
   ]
  },
  {
   "cell_type": "markdown",
   "id": "93798913",
   "metadata": {},
   "source": [
    "### Validação de contagem de valores em uma coluna\n",
    "\n",
    "\n",
    "Vamos criar um dataframe com uma coluna \"cidade\" e usar a função ``expect_column_value_counts_to_be_between`` para definir se a coluna \"cidade\" contém pelo menos 3 ocorrências de cada cidade. \n",
    "\n",
    "Em seguida, passamos um dicionário com os valores esperados de cada cidade e um valor mínimo e máximo de ocorrências permitidas. "
   ]
  },
  {
   "cell_type": "code",
   "execution_count": null,
   "id": "7b368d79",
   "metadata": {},
   "outputs": [],
   "source": [
    "# Criação de um dataframe com uma coluna \"cidade\" que deve conter pelo menos 3 ocorrências de cada cidade\n",
    "df = pd.DataFrame({'cidade': ['São Paulo', 'Rio de Janeiro', 'Belo Horizonte', 'São Paulo', 'Rio de Janeiro', 'Belo Horizonte', 'São Paulo', 'Rio de Janeiro', 'Belo Horizonte']})\n",
    "\n"
   ]
  },
  {
   "cell_type": "markdown",
   "id": "1501ceda",
   "metadata": {},
   "source": [
    "## Salve sua suíte Expectation"
   ]
  },
  {
   "cell_type": "code",
   "execution_count": null,
   "id": "b6452102",
   "metadata": {},
   "outputs": [],
   "source": [
    "import json\n",
    "\n",
    "with open( \"data/expectations.json\", \"w\") as my_file:\n",
    "    my_file.write(\n",
    "        json.dumps(df.get_expectation_suite().to_json_dict())\n",
    "    )"
   ]
  },
  {
   "cell_type": "code",
   "execution_count": null,
   "id": "651855e2",
   "metadata": {},
   "outputs": [],
   "source": []
  },
  {
   "cell_type": "markdown",
   "id": "b5d1cb8d",
   "metadata": {},
   "source": [
    "## Carregando dados"
   ]
  },
  {
   "cell_type": "code",
   "execution_count": null,
   "id": "fc40a5f3",
   "metadata": {},
   "outputs": [],
   "source": [
    "import great_expectations as gx\n",
    "import pandas as pd\n",
    "\n",
    "df = gx.read_csv('data/us_tax_data_2016.csv')"
   ]
  },
  {
   "cell_type": "code",
   "execution_count": null,
   "id": "851efd26",
   "metadata": {
    "scrolled": true
   },
   "outputs": [],
   "source": [
    "df.head()"
   ]
  },
  {
   "cell_type": "markdown",
   "id": "bf1ccbd7",
   "metadata": {},
   "source": [
    "## Definindo expectativas dos dados"
   ]
  },
  {
   "cell_type": "code",
   "execution_count": null,
   "id": "a9dec7c9",
   "metadata": {
    "scrolled": true
   },
   "outputs": [],
   "source": [
    "df.expect_column_values_to_be_in_set('zipcode', ['0'])"
   ]
  },
  {
   "cell_type": "code",
   "execution_count": null,
   "id": "462a702e",
   "metadata": {
    "scrolled": false
   },
   "outputs": [],
   "source": [
    "df.expect_column_values_to_be_in_set('zipcode', [0], mostly=.99)"
   ]
  },
  {
   "cell_type": "markdown",
   "id": "88182455",
   "metadata": {},
   "source": [
    "## Obtendo as Expectativas"
   ]
  },
  {
   "cell_type": "code",
   "execution_count": null,
   "id": "95f6c265",
   "metadata": {
    "scrolled": false
   },
   "outputs": [],
   "source": [
    "df.get_expectation_suite()"
   ]
  },
  {
   "cell_type": "markdown",
   "id": "651c1f29",
   "metadata": {},
   "source": [
    "Por padrão, ``get_expectation_suite()`` retorna apenas Expectations com ``success=True``. \n",
    "\n",
    "Você pode substituir esse comportamento com:"
   ]
  },
  {
   "cell_type": "code",
   "execution_count": null,
   "id": "128c36c7",
   "metadata": {
    "scrolled": true
   },
   "outputs": [],
   "source": [
    "df.get_expectation_suite(discard_failed_expectations=False)"
   ]
  }
 ],
 "metadata": {
  "kernelspec": {
   "display_name": "Python 3",
   "language": "python",
   "name": "python3"
  },
  "language_info": {
   "codemirror_mode": {
    "name": "ipython",
    "version": 3
   },
   "file_extension": ".py",
   "mimetype": "text/x-python",
   "name": "python",
   "nbconvert_exporter": "python",
   "pygments_lexer": "ipython3",
   "version": "3.9.1"
  }
 },
 "nbformat": 4,
 "nbformat_minor": 5
}
