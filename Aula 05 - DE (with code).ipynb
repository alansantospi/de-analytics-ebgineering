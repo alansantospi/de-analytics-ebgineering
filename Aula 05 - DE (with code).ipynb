{
 "cells": [
  {
   "cell_type": "markdown",
   "id": "8ca72945",
   "metadata": {},
   "source": [
    "# Great Expectations"
   ]
  },
  {
   "cell_type": "markdown",
   "id": "57dc18d2",
   "metadata": {},
   "source": [
    "## Instalando"
   ]
  },
  {
   "cell_type": "code",
   "execution_count": null,
   "id": "c7a19eae",
   "metadata": {},
   "outputs": [],
   "source": [
    "!pip install great_expectations"
   ]
  },
  {
   "cell_type": "markdown",
   "id": "0a091dae",
   "metadata": {},
   "source": [
    "## Validando os dados"
   ]
  },
  {
   "cell_type": "markdown",
   "id": "bc5fdd5c",
   "metadata": {},
   "source": [
    "Validamos o conjunto de dados com a suíte de expectativas. \n",
    "\n",
    "Em seguida, verificamos se a validação foi bem-sucedida verificando o atributo success do objeto ExpectationValidationResult"
   ]
  },
  {
   "cell_type": "markdown",
   "id": "67c6ee42",
   "metadata": {},
   "source": [
    "### Validação de valores únicos em uma coluna"
   ]
  },
  {
   "cell_type": "code",
   "execution_count": null,
   "id": "fb6fd1b2",
   "metadata": {},
   "outputs": [],
   "source": [
    "import great_expectations as ge\n",
    "import pandas as pd\n",
    "\n",
    "# Criação de um dataframe com uma coluna \"nome\" que deve conter apenas valores únicos\n",
    "df = pd.DataFrame({'nome': ['João', 'Maria', 'Joquim', 'Pedro', 'Ana']})\n",
    "df.head()"
   ]
  },
  {
   "cell_type": "code",
   "execution_count": null,
   "id": "cf3eb7fc",
   "metadata": {},
   "outputs": [],
   "source": [
    "df_ge = ge.dataset.PandasDataset(df)\n",
    "\n",
    "validation_result = df_ge.expect_column_values_to_be_unique(column='nome')\n",
    "\n",
    "if validation_result['success']:\n",
    "    print('A coluna nome contém apenas valores únicos')\n",
    "else:\n",
    "    print('A coluna nome possui valores duplicados')"
   ]
  },
  {
   "cell_type": "markdown",
   "id": "afc47ceb",
   "metadata": {},
   "source": [
    "Crie uma expectation que verifica se a coluna \"codigo\" contém apenas valores únicos.\n",
    "\n",
    "Use a função ``expect_column_values_to_be_unique`` para definir essa expectativa"
   ]
  },
  {
   "cell_type": "code",
   "execution_count": null,
   "id": "9443172a",
   "metadata": {},
   "outputs": [],
   "source": [
    "# Criando um dataframe com uma coluna \"codigo\" que deve conter valores únicos\n",
    "df = pd.DataFrame({'codigo': [1001, 1002, 1003, 1006, 1004, 1005]})\n",
    "df_ge = ge.dataset.PandasDataset(df)\n",
    "\n",
    "validation_result = df_ge.expect_column_values_to_be_unique(column='codigo')\n",
    "validation_result"
   ]
  },
  {
   "cell_type": "code",
   "execution_count": null,
   "id": "3f14c92e",
   "metadata": {},
   "outputs": [],
   "source": []
  },
  {
   "cell_type": "markdown",
   "id": "7969e8e7",
   "metadata": {},
   "source": [
    "### Validação de valores mínimos e máximos em uma coluna numérica"
   ]
  },
  {
   "cell_type": "code",
   "execution_count": null,
   "id": "dbcbf61c",
   "metadata": {},
   "outputs": [],
   "source": [
    "# Criação de um dataframe com uma coluna \"idade\" que deve conter valores numéricos entre 0 e 100\n",
    "df = pd.DataFrame({'idade': [20, 25, 30, 35, 40, 45, 50, 55, 60, 65, 70, 75, 80, 85, 90, 95, 100, 105]})\n",
    "\n",
    "result = ge.dataset.PandasDataset(df).expect_column_values_to_be_between(column='idade', min_value=0, max_value=107)\n",
    "\n",
    "result"
   ]
  },
  {
   "cell_type": "markdown",
   "id": "6a7f2c05",
   "metadata": {},
   "source": [
    "### Validação de formatos de data em uma coluna"
   ]
  },
  {
   "cell_type": "code",
   "execution_count": null,
   "id": "00ea2a29",
   "metadata": {
    "scrolled": true
   },
   "outputs": [],
   "source": [
    "# Criação de um dataframe com uma coluna \"data\" que deve conter datas no formato 'YYYY-MM-DD'\n",
    "df = pd.DataFrame({'data': ['2022-01-01', '2022-01-02', '2022-01-03', '2022-01-04', '2022-01-05']})\n",
    "df_ge = ge.dataset.PandasDataset(df)\n",
    "result = df_ge.expect_column_values_to_match_regex(column='data', regex='^\\d{4}-\\d{2}-\\d{2}$')\n",
    "\n",
    "result"
   ]
  },
  {
   "cell_type": "markdown",
   "id": "3d71a8fb",
   "metadata": {},
   "source": [
    "### Validação de valores nulos em uma coluna\n",
    "\n",
    "Criaremos uma Expectation que verifica se a coluna \"salario\" não contém valores nulos"
   ]
  },
  {
   "cell_type": "code",
   "execution_count": null,
   "id": "a13d41c8",
   "metadata": {
    "scrolled": true
   },
   "outputs": [],
   "source": [
    "# Criação de um dataframe com uma coluna \"salario\" que não deve conter valores nulos\n",
    "df = pd.DataFrame({'salario': [2000, 2500, 3000, None, 4000, 4500]})\n",
    "\n",
    "df_ge = ge.dataset.PandasDataset(df)\n",
    "\n",
    "result = df_ge.expect_column_values_to_not_be_null(column='salario')\n",
    "result"
   ]
  },
  {
   "cell_type": "markdown",
   "id": "bb652cb0",
   "metadata": {},
   "source": [
    "### Validação de formatos de string em uma coluna\n",
    "\n",
    "Vamos criar uma Expectation que verifica se a coluna \"cpf\" contém apenas CPFs no formato 'XXX.XXX.XXX-XX'. \n",
    "\n",
    "Usaremos a função ``expect_column_values_to_match_regex`` para definir essa expectativa."
   ]
  },
  {
   "cell_type": "code",
   "execution_count": null,
   "id": "c30ca7df",
   "metadata": {},
   "outputs": [],
   "source": [
    "import great_expectations as ge\n",
    "import pandas as pd\n",
    "\n",
    "# Criação de um dataframe com uma coluna \"cpf\" que deve conter CPFs no formato 'XXX.XXX.XXX-XX'\n",
    "df = pd.DataFrame({'cpf': ['123.456.789-10', '234.567.890-12', '345.678.901-23', '456.789.012-34', '567.890.123-45']})\n",
    "df_ge = ge.dataset.PandasDataset(df)\n",
    "\n",
    "result = df_ge.expect_column_values_to_match_regex(column='cpf', regex='^\\d{3}.\\d{3}.\\d{3}-\\d{2}')\n",
    "result"
   ]
  },
  {
   "cell_type": "markdown",
   "id": "736de557",
   "metadata": {},
   "source": [
    "### Validação de valores numéricos em uma coluna\n",
    "\n",
    "Use a função ``expect_column_values_to_be_between`` para verificar se a coluna \"idade\" contém apenas valores entre 18 e 60 anos.\n",
    "\n",
    "Passamos os valores mínimo e máximo permitidos como argumentos. Em seguida, validamos o conjunto de dados com a suíte de expectativas e verificamos se a validação foi bem-sucedida.\n"
   ]
  },
  {
   "cell_type": "code",
   "execution_count": null,
   "id": "b08369c7",
   "metadata": {},
   "outputs": [],
   "source": [
    "# Criação de um dataframe com uma coluna \"idade\" que deve conter valores entre 18 e 60 anos\n",
    "df = pd.DataFrame({'idade': [25, 40, 50, 32, 18, 71, 72]})\n",
    "df_ge = ge.dataset.PandasDataset(df)\n",
    "\n",
    "result = df_ge.expect_column_values_to_be_between(column='idade', min_value=18, max_value=70)\n",
    "result\n"
   ]
  },
  {
   "cell_type": "markdown",
   "id": "93798913",
   "metadata": {},
   "source": [
    "### Validação de contagem de valores em uma coluna\n",
    "\n",
    "\n",
    "Vamos criar um dataframe com uma coluna \"cidade\" e usar a função ``expect_column_unique_value_count_to_be_between`` para definir se a coluna \"cidade\" contém pelo menos 3 ocorrências de cada cidade. \n",
    "\n",
    "Em seguida, passamos um dicionário com os valores esperados de cada cidade e um valor mínimo e máximo de ocorrências permitidas. "
   ]
  },
  {
   "cell_type": "code",
   "execution_count": null,
   "id": "1aa79b7a",
   "metadata": {},
   "outputs": [],
   "source": [
    "# Criação de um dataframe com uma coluna \"cidade\" que deve conter pelo menos 3 ocorrências de cada cidade\n",
    "df = pd.DataFrame({'cidade': ['São Paulo', 'Rio de Janeiro', 'Belo Horizonte', 'São Paulo', 'Rio de Janeiro', 'Belo Horizonte', 'São Paulo', 'Rio de Janeiro', 'Belo Horizonte', 'Salvador']})\n",
    "df.head()"
   ]
  },
  {
   "cell_type": "code",
   "execution_count": null,
   "id": "7b368d79",
   "metadata": {},
   "outputs": [],
   "source": [
    "df_ge = ge.dataset.PandasDataset(df)\n",
    "\n",
    "result = df_ge.expect_column_unique_value_count_to_be_between(column='cidade', min_value=2, max_value=3)\n",
    "result"
   ]
  },
  {
   "cell_type": "markdown",
   "id": "1501ceda",
   "metadata": {},
   "source": [
    "## Salve sua suíte Expectation"
   ]
  },
  {
   "cell_type": "code",
   "execution_count": null,
   "id": "b6452102",
   "metadata": {},
   "outputs": [],
   "source": [
    "import json\n",
    "\n",
    "with open( \"data/expectations.json\", \"w\") as my_file:\n",
    "    my_file.write(\n",
    "        json.dumps(df.get_expectation_suite().to_json_dict())\n",
    "    )"
   ]
  },
  {
   "cell_type": "code",
   "execution_count": null,
   "id": "651855e2",
   "metadata": {},
   "outputs": [],
   "source": []
  },
  {
   "cell_type": "markdown",
   "id": "b5d1cb8d",
   "metadata": {},
   "source": [
    "## Carregando dados"
   ]
  },
  {
   "cell_type": "code",
   "execution_count": null,
   "id": "fc40a5f3",
   "metadata": {},
   "outputs": [],
   "source": [
    "import great_expectations as ge\n",
    "import pandas as pd\n",
    "\n",
    "df = ge.read_csv('data/us_tax_data_2016.csv')"
   ]
  },
  {
   "cell_type": "code",
   "execution_count": null,
   "id": "851efd26",
   "metadata": {
    "scrolled": true
   },
   "outputs": [],
   "source": [
    "df.head()"
   ]
  },
  {
   "cell_type": "markdown",
   "id": "bf1ccbd7",
   "metadata": {},
   "source": [
    "## Definindo expectativas dos dados"
   ]
  },
  {
   "cell_type": "code",
   "execution_count": null,
   "id": "a9dec7c9",
   "metadata": {
    "scrolled": true
   },
   "outputs": [],
   "source": [
    "df.expect_column_values_to_be_in_set('zipcode', ['0'])"
   ]
  },
  {
   "cell_type": "code",
   "execution_count": null,
   "id": "462a702e",
   "metadata": {
    "scrolled": false
   },
   "outputs": [],
   "source": [
    "df.expect_column_values_to_be_in_set('zipcode', [0], mostly=.001)"
   ]
  },
  {
   "cell_type": "code",
   "execution_count": null,
   "id": "73e3eace",
   "metadata": {},
   "outputs": [],
   "source": [
    "df.expect_column_to_exist(column='mars1')"
   ]
  },
  {
   "cell_type": "code",
   "execution_count": null,
   "id": "ee83d17e",
   "metadata": {},
   "outputs": [],
   "source": [
    "df.expect_column_to_exist(column='mars3')"
   ]
  },
  {
   "cell_type": "markdown",
   "id": "88182455",
   "metadata": {},
   "source": [
    "## Obtendo as Expectativas"
   ]
  },
  {
   "cell_type": "code",
   "execution_count": null,
   "id": "95f6c265",
   "metadata": {
    "scrolled": false
   },
   "outputs": [],
   "source": [
    "df.get_expectation_suite()"
   ]
  },
  {
   "cell_type": "markdown",
   "id": "651c1f29",
   "metadata": {},
   "source": [
    "Por padrão, ``get_expectation_suite()`` retorna apenas Expectations com ``success=True``. \n",
    "\n",
    "Você pode substituir esse comportamento com:"
   ]
  },
  {
   "cell_type": "code",
   "execution_count": null,
   "id": "128c36c7",
   "metadata": {
    "scrolled": true
   },
   "outputs": [],
   "source": [
    "df.get_expectation_suite(discard_failed_expectations=False)"
   ]
  },
  {
   "cell_type": "markdown",
   "id": "1514bfe2",
   "metadata": {},
   "source": [
    "### Desafio"
   ]
  },
  {
   "cell_type": "markdown",
   "id": "2e93c410",
   "metadata": {},
   "source": [
    "Crie um dataset contendo as seguites colunas:\n",
    "    nome\n",
    "    email\n",
    "    telefone\n",
    "    idade\n",
    "    \n",
    "expectativas:\n",
    "    pelo menos 10% tem que ser maior de idade\n",
    "    todos os emails devem ser sintaticamente validos\n",
    "    os telefones devem possuir dd + 9 digitos\n",
    "    \n",
    "mostre todas as expectativas\n",
    "    \n",
    "    "
   ]
  }
 ],
 "metadata": {
  "kernelspec": {
   "display_name": "Python 3",
   "language": "python",
   "name": "python3"
  },
  "language_info": {
   "codemirror_mode": {
    "name": "ipython",
    "version": 3
   },
   "file_extension": ".py",
   "mimetype": "text/x-python",
   "name": "python",
   "nbconvert_exporter": "python",
   "pygments_lexer": "ipython3",
   "version": "3.9.1"
  }
 },
 "nbformat": 4,
 "nbformat_minor": 5
}
