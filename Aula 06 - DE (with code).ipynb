{
 "cells": [
  {
   "cell_type": "markdown",
   "id": "18a6398a",
   "metadata": {},
   "source": [
    "## Instanciando um Contexto de Dados\n",
    "\n",
    "Obteremos um objeto DataContext com o seguinte código:"
   ]
  },
  {
   "cell_type": "code",
   "execution_count": null,
   "id": "5379337f",
   "metadata": {},
   "outputs": [],
   "source": [
    "import great_expectations as gx\n",
    "\n",
    "context = gx.get_context()"
   ]
  },
  {
   "cell_type": "markdown",
   "id": "754e42ee",
   "metadata": {},
   "source": [
    "## Verificando o conteúdo do contexto de dados\n",
    "Podemos garantir que o Data Context foi instanciado corretamente imprimindo seu conteúdo."
   ]
  },
  {
   "cell_type": "code",
   "execution_count": null,
   "id": "a9dacd50",
   "metadata": {},
   "outputs": [],
   "source": [
    "context"
   ]
  },
  {
   "cell_type": "markdown",
   "id": "a0b809d8",
   "metadata": {},
   "source": [
    "## 2. Conectando aos dados\n",
    "Nos conectaremos aos dados .csv armazenados em nosso repositório:"
   ]
  },
  {
   "cell_type": "code",
   "execution_count": null,
   "id": "4e852578",
   "metadata": {},
   "outputs": [],
   "source": [
    "validator = context.sources.pandas_default.read_csv(\n",
    "    'data/us_tax_data_2016.csv'\n",
    ")"
   ]
  },
  {
   "cell_type": "markdown",
   "id": "21f9b3de",
   "metadata": {},
   "source": [
    "## 3. Criando Expectativas\n",
    "\n",
    "Quando lemos nossos dados .csv, recebemos uma instância do __Validator__ de volta. \n",
    "\n",
    "Um __Validador__ é um objeto capaz de armazenar Expectativas sobre os dados aos quais está associado, bem como realizar introspecções sobre esses dados.\n",
    "\n",
    "A seguir definiremos algumas Expectations.\n",
    "\n",
    "Com a Expectation definida abaixo, estamos afirmando que esperamos que a coluna ``agi_stub`` seja sempre preenchida. \n",
    "\n",
    "Ou seja: nenhum dos valores da coluna deve ser nulo."
   ]
  },
  {
   "cell_type": "code",
   "execution_count": null,
   "id": "e4675243",
   "metadata": {
    "scrolled": true
   },
   "outputs": [],
   "source": [
    "validator.expect_column_values_to_not_be_null(\"agi_stub\")"
   ]
  },
  {
   "cell_type": "markdown",
   "id": "3db6faf0",
   "metadata": {},
   "source": [
    "## 4. Validando os dados\n",
    "\n",
    "### 4.1 Executando as Expectativas definidas\n",
    "Agora que definimos nossas expectativas, é hora do GX fazer uma introspecção de nossos dados e ver se eles correspondem ao que dissemos a GX para esperar. Para isso, definimos um Checkpoint (que nos permitirá repetir a Validação no futuro)."
   ]
  },
  {
   "cell_type": "code",
   "execution_count": null,
   "id": "4df4c322",
   "metadata": {},
   "outputs": [],
   "source": [
    "checkpoint = gx.checkpoint.SimpleCheckpoint( \n",
    "    name=\"my_quickstart_checkpoint\",\n",
    "    data_context=context,\n",
    "    validator=validator,\n",
    ")"
   ]
  },
  {
   "cell_type": "markdown",
   "id": "10ab059d",
   "metadata": {},
   "source": [
    "Uma vez criado o Checkpoint, vamos executá-lo e receber de volta os resultados da nossa Validação."
   ]
  },
  {
   "cell_type": "code",
   "execution_count": null,
   "id": "74fda6a5",
   "metadata": {},
   "outputs": [],
   "source": [
    "checkpoint_result = checkpoint.run()"
   ]
  },
  {
   "cell_type": "markdown",
   "id": "f2fe7ef2",
   "metadata": {},
   "source": [
    "### 4.2 Visualizando os resultados\n",
    "O Great Expectations fornece uma maneira amigável e legível por humanos de visualizar os resultados de Validations: Data Docs. \n",
    "\n",
    "Nosso Checkpoint terá compilado automaticamente novos Data Docs para incluir os resultados da validação que executamos, para que possamos visualizá-los imediatamente:"
   ]
  },
  {
   "cell_type": "code",
   "execution_count": null,
   "id": "94f7a6cc",
   "metadata": {},
   "outputs": [],
   "source": [
    "validation_result_identifier = checkpoint_result.list_validation_result_identifiers()[0]\n",
    "context.open_data_docs(resource_identifier=validation_result_identifier)"
   ]
  },
  {
   "cell_type": "markdown",
   "id": "b745bbec",
   "metadata": {},
   "source": [
    "### 4.3 Salvando o contexto de dados para uso futuro\n",
    "Como não inicializamos anteriormente um Contexto de dados do sistema de arquivos ou especificamos um caminho para criar um, o Contexto de dados que recebemos de gx.get_context() era um Contexto de dados efêmero temporário na memória. \n",
    "\n",
    "Para salvar este Contexto de Dados para uso futuro, vamos convertê-lo em um Contexto de Dados do Sistema de Arquivos:"
   ]
  },
  {
   "cell_type": "code",
   "execution_count": null,
   "id": "f09aa2d6",
   "metadata": {},
   "outputs": [],
   "source": [
    "context.convert_to_file_context()"
   ]
  },
  {
   "cell_type": "markdown",
   "id": "60447fdd",
   "metadata": {},
   "source": [
    "Você pode fornecer o caminho para uma pasta específica ao converter seu contexto de dados efêmeros em um contexto de dados do sistema de arquivos.\n",
    "Se você fizer isso, seu contexto de dados do sistema de arquivos será inicializado nesse local. \n",
    "Caso contrário, seu novo contexto de dados do sistema de arquivos será inicializado na pasta em que seu script é executado."
   ]
  }
 ],
 "metadata": {
  "kernelspec": {
   "display_name": "Python 3",
   "language": "python",
   "name": "python3"
  },
  "language_info": {
   "codemirror_mode": {
    "name": "ipython",
    "version": 3
   },
   "file_extension": ".py",
   "mimetype": "text/x-python",
   "name": "python",
   "nbconvert_exporter": "python",
   "pygments_lexer": "ipython3",
   "version": "3.9.1"
  }
 },
 "nbformat": 4,
 "nbformat_minor": 5
}
