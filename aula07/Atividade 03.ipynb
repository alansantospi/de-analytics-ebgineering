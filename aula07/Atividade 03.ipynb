{
 "cells": [
  {
   "cell_type": "markdown",
   "id": "ebfbea4e",
   "metadata": {},
   "source": [
    "## Desafio"
   ]
  },
  {
   "cell_type": "markdown",
   "id": "c0c42967",
   "metadata": {},
   "source": [
    "1. Crie uma tabela _orders_by_year_ a partir de _orders_ que agrupa a quantidade de pedidos por ano, considerando a coluna _order_approved_at_"
   ]
  },
  {
   "cell_type": "markdown",
   "id": "aa520524",
   "metadata": {},
   "source": [
    "2. Crie uma visão que agrega os totais de pedidos por estado. Considere as tabelas _customers_ para obter os estados (coluna _customer_state_) e _orders_ para contabilizar a quantidade de pedidos."
   ]
  },
  {
   "cell_type": "markdown",
   "id": "9c3ad0cc",
   "metadata": {},
   "source": [
    "3. Crie uma nova visão chamada _customers_by_region_ que utiliza os dados da tabela _customers_with_region_. A visão deve realizar uma agregação por região e contar o número de clientes em cada uma delas."
   ]
  },
  {
   "cell_type": "markdown",
   "id": "b1ddd98b",
   "metadata": {},
   "source": [
    "4. Crie uma nova tabela chamada _customers_with_region_ que utiliza os dados da tabela customers como base e adiciona uma nova coluna region que é calculada a partir da coluna customer_state. \n",
    " \n",
    " **Dica**: utilize uma expressão CASE.\n",
    " \n",
    " **Exemplo**:\n",
    " \n",
    " CASE\n",
    "        WHEN state IN ('SP', 'RJ') THEN 'Sudeste'\n",
    "        \n",
    " CASE\n",
    "        WHEN state IN ('CE', 'PI', 'MA', 'BA') THEN 'Nordeste'"
   ]
  },
  {
   "cell_type": "markdown",
   "id": "f79000d1",
   "metadata": {},
   "source": [
    "5. Crie um novo modelo no diretório models/ com o nome *items_costs.sql* e defina uma consulta SQL que selecione algumas colunas da tabela order_items e calcule o preço total de cada item."
   ]
  },
  {
   "cell_type": "markdown",
   "id": "08cc4c02",
   "metadata": {},
   "source": [
    "6. Crie um novo modelo no diretório models/ com o nome _orders_costs.sql_ e defina uma consulta SQL que agregue os dados da tabela orders e da tabela order_items para calcular o preço total de cada pedido."
   ]
  },
  {
   "cell_type": "code",
   "execution_count": null,
   "id": "74c1fb1e",
   "metadata": {},
   "outputs": [],
   "source": []
  }
 ],
 "metadata": {
  "kernelspec": {
   "display_name": "Python 3",
   "language": "python",
   "name": "python3"
  },
  "language_info": {
   "codemirror_mode": {
    "name": "ipython",
    "version": 3
   },
   "file_extension": ".py",
   "mimetype": "text/x-python",
   "name": "python",
   "nbconvert_exporter": "python",
   "pygments_lexer": "ipython3",
   "version": "3.9.1"
  }
 },
 "nbformat": 4,
 "nbformat_minor": 5
}
