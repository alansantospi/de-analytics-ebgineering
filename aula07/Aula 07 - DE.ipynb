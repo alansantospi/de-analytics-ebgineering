{
 "cells": [
  {
   "cell_type": "markdown",
   "id": "35475ba5",
   "metadata": {},
   "source": [
    "# Especializando dados com o DBT"
   ]
  },
  {
   "cell_type": "markdown",
   "id": "8e0881ee",
   "metadata": {},
   "source": [
    "O DBT (Data Build Tool) é uma ferramenta de orquestração de dados open source criada para ajudar equipes de dados a transformar, gerenciar e monitorar fluxos de dados de maneira mais eficiente. Com o dbt, é possível realizar tarefas como extrair, transformar e carregar dados, além de criar e gerenciar modelos de dados e tabelas."
   ]
  },
  {
   "cell_type": "markdown",
   "id": "6f634051",
   "metadata": {},
   "source": [
    "## 1. Instalando"
   ]
  },
  {
   "cell_type": "markdown",
   "id": "7cd0024c",
   "metadata": {},
   "source": [
    "Abra o terminal do seu computador e execute o seguinte comando:"
   ]
  },
  {
   "cell_type": "code",
   "execution_count": null,
   "id": "da4b970a",
   "metadata": {},
   "outputs": [],
   "source": [
    "!pip instal dbt-core"
   ]
  },
  {
   "cell_type": "markdown",
   "id": "b847d86c",
   "metadata": {},
   "source": [
    "Como vamos utilizar o BigQuery como banco de dados, temos que instalar o plugin dbt-bigquery"
   ]
  },
  {
   "cell_type": "code",
   "execution_count": null,
   "id": "820779aa",
   "metadata": {},
   "outputs": [],
   "source": [
    "!pip install dbt-bigquery"
   ]
  },
  {
   "cell_type": "markdown",
   "id": "06648b55",
   "metadata": {},
   "source": [
    "Para certificar-se de ter o dbt Core instalado, verifique a versão usando o comando:"
   ]
  },
  {
   "cell_type": "code",
   "execution_count": 3,
   "id": "fbc6611c",
   "metadata": {},
   "outputs": [
    {
     "name": "stderr",
     "output_type": "stream",
     "text": [
      "Core:\n",
      "  - installed: 1.4.5\n",
      "  - latest:    1.4.5 - \u001b[32mUp to date!\u001b[0m\n",
      "\n",
      "Plugins:\n",
      "  - bigquery: 1.4.3 - \u001b[32mUp to date!\u001b[0m\n"
     ]
    }
   ],
   "source": [
    "!dbt --version"
   ]
  },
  {
   "cell_type": "markdown",
   "id": "e43c02f4",
   "metadata": {},
   "source": [
    "## 2. Criando um projeto\n",
    "\n",
    "Vamos aprender a usar uma série de comandos no Terminal para criar um projeto. \n",
    "\n",
    "O dbt Core possui um comando ``init`` que ajuda a estruturar um projeto dbt.\n",
    "\n",
    "Para criar seu projeto dbt:"
   ]
  },
  {
   "cell_type": "markdown",
   "id": "8ccd21d8",
   "metadata": {},
   "source": [
    "2.1. Escolha uma pasta de sua preferência e inicie um projeto em um diretório vazio, usando o comando:"
   ]
  },
  {
   "cell_type": "markdown",
   "id": "386aff9e",
   "metadata": {},
   "source": [
    "dbt init"
   ]
  },
  {
   "cell_type": "markdown",
   "id": "68c56a21",
   "metadata": {},
   "source": [
    "Ele irá pedir o nome do projeto. Digite \"shop\" (sem as aspas)"
   ]
  },
  {
   "cell_type": "markdown",
   "id": "2fd5ec44",
   "metadata": {},
   "source": [
    "Como alternativa, você também pode passar o nome do projeto diretamente:"
   ]
  },
  {
   "cell_type": "code",
   "execution_count": null,
   "id": "6a448736",
   "metadata": {},
   "outputs": [],
   "source": [
    "dbt init shop"
   ]
  },
  {
   "cell_type": "markdown",
   "id": "911f7596",
   "metadata": {},
   "source": [
    "Em seguida, o dbt fará algumas perguntas para ajudá-lo a configurar seu projeto. As perguntas que o dbt faz podem variar um pouco dependendo da versão do dbt e das opções que você escolheu.\n",
    "\n",
    "Algumas das perguntas que o dbt pode fazer incluem:\n",
    "\n"
   ]
  },
  {
   "cell_type": "markdown",
   "id": "26c02d3b",
   "metadata": {},
   "source": [
    "- *__Which database do you want to use?__*\n",
    "    \n",
    "  O dbt pode trabalhar com vários tipos de banco de dados, incluindo PostgreSQL, Redshift, BigQuery e Snowflake (veja a lista completa em: https://docs.getdbt.com/docs/supported-data-platforms). \n",
    "  \n",
    "  Como vamos usar o Big Query, podemos escolher [1]"
   ]
  },
  {
   "cell_type": "markdown",
   "id": "2bb43f88",
   "metadata": {},
   "source": [
    "Agora, o dbt fará algumas perguntas específicas para configurar nosso projeto com o BigQuery. "
   ]
  },
  {
   "cell_type": "markdown",
   "id": "9b81eda1",
   "metadata": {},
   "source": [
    "- __*Desired authentication method option (enter a number)*__\n",
    "\n",
    "Essa pergunta é feita para permitir que você escolha como deseja autenticar sua conexão com o BigQuery.\n",
    "\n",
    "O dbt suporta vários métodos de autenticação com o BigQuery, como autenticação baseada em chave de API, autenticação com credenciais de serviço do Google Cloud Platform (GCP) ou autenticação com OAuth. Dependendo do método de autenticação escolhido, o dbt precisará de diferentes informações de autenticação para se conectar com o BigQuery.\n",
    "\n",
    "O dbt fornece uma lista numerada das opções de autenticação suportadas. Iremos optar por [2] service_account."
   ]
  },
  {
   "cell_type": "markdown",
   "id": "cb9e19c5",
   "metadata": {},
   "source": [
    "Após selecionar o método de autenticação, o dbt fará algumas perguntas adicionais para configurar a conexão com o BigQuery. \n",
    "- **keyfile**: Como escolhemos a opção de autenticação baseada em credenciais de serviço do GCP, aqui é onde devemos fornecer o caminho para o arquivo JSON com as credenciais de serviço.\n",
    "- **project**: Aqui você deve informar o nome do projeto no GCP que contém o BigQuery dataset que deseja acessar.\n",
    "- **dataset**: Informe o nome do dataset no BigQuery que você deseja usar para o seu projeto dbt.\n",
    "- **Desired location option (enter a number)**: Informe a região do BigQuery em que o dataset está localizado. Por exemplo, us-central1, europe-west1, etc.\n"
   ]
  },
  {
   "cell_type": "markdown",
   "id": "96edc2d4",
   "metadata": {},
   "source": [
    "Em seguida, o dbt init irá fazer mais algumas perguntas para personalizar o ambiente do projeto."
   ]
  },
  {
   "cell_type": "markdown",
   "id": "cf5b96d2",
   "metadata": {},
   "source": [
    "- **threads (1 or more)**: quantas threads você deseja usar ao executar tarefas do dbt em paralelo. Threads são como fluxos de trabalho separados que podem ser executados simultaneamente. O dbt usa threads para paralelizar a execução de tarefas, como a compilação de modelos ou a execução de consultas. O número de threads que você escolher pode depender de vários fatores, como o tamanho do seu conjunto de dados e a capacidade de processamento do seu hardware. Você pode optar por escolher o número padrão sugerido pelo dbt ou ajustar o número de threads com base em suas necessidades específicas.\n",
    "\n",
    "\n",
    "- **job_execution_timeout_seconds [300]**: permite definir um limite de tempo para a execução das tarefas do dbt. Isso é útil para garantir que as tarefas não sejam executadas indefinidamente e evita que o dbt fique preso em uma tarefa que nunca será concluída. O valor padrão para o tempo limite é de 300 segundos (ou 5 minutos), mas você pode optar por aumentar ou diminuir esse valor com base nas necessidades do seu projeto."
   ]
  },
  {
   "cell_type": "markdown",
   "id": "0a6d5748",
   "metadata": {},
   "source": [
    "Responda às perguntas conforme a seguir:"
   ]
  },
  {
   "cell_type": "code",
   "execution_count": null,
   "id": "54e045d0",
   "metadata": {},
   "outputs": [],
   "source": [
    "Enter a name for your project (letters, digits, underscore): shop\n",
    "Which database would you like to use?\n",
    "[1] bigquery\n",
    "\n",
    "(Don't see the one you want? https://docs.getdbt.com/docs/available-adapters)\n",
    "\n",
    "Enter a number: 1\n",
    "[1] oauth\n",
    "[2] service_account\n",
    "Desired authentication method option (enter a number): 2\n",
    "keyfile (/path/to/bigquery/keyfile.json): \n",
    "project (GCP project id): \n",
    "dataset (the name of your dbt dataset): \n",
    "threads (1 or more): 1\n",
    "job_execution_timeout_seconds [300]: 300\n",
    "[1] US\n",
    "[2] EU\n",
    "Desired location option (enter a number): 1\n",
    "Profile proj written to C:\\Users\\alans\\.dbt\\profiles.yml using target's profile_template.yml and your supplied values. Run 'dbt debug' to validate the connection.\n",
    "\n",
    "Your new dbt project \"shop\" was created!\n",
    "\n",
    "For more information on how to configure the profiles.yml file,\n",
    "please consult the dbt documentation here:\n",
    "\n",
    "  https://docs.getdbt.com/docs/configure-your-profile\n",
    "\n",
    "One more thing:\n",
    "\n",
    "Need help? Don't hesitate to reach out to us via GitHub issues or on Slack:\n",
    "\n",
    "  https://community.getdbt.com/\n",
    "\n",
    "Happy modeling!"
   ]
  },
  {
   "cell_type": "markdown",
   "id": "024a2d82",
   "metadata": {},
   "source": [
    "Depois de responder a todas essas perguntas, o dbt irá gerar um arquivo no diretório ``~/.dbt/`` chamado ``profiles.yml`` que contém as informações de conexão e autenticação necessárias para se conectar ao BigQuery."
   ]
  },
  {
   "cell_type": "markdown",
   "id": "e4a52ecc",
   "metadata": {},
   "source": [
    "2.2. Navegue até o diretório do seu projeto:"
   ]
  },
  {
   "cell_type": "markdown",
   "id": "6101db64",
   "metadata": {},
   "source": [
    "cd shop"
   ]
  },
  {
   "cell_type": "markdown",
   "id": "b095963b",
   "metadata": {},
   "source": [
    "2.3. Use um editor de código como o VSCode para abrir o diretório do projeto que você criou nas etapas anteriores. \n",
    "\n",
    "Para confirmar que você está no lugar certo, o diretório deve conter pastas e arquivos .sql e .yml gerados pelo comando ``init``."
   ]
  },
  {
   "cell_type": "markdown",
   "id": "92a1fe1c",
   "metadata": {},
   "source": [
    "2.4. Abra o arquivo *dbt_project.yml*, que deve estar localizado no diretório raiz do seu projeto, confira os seguintes valores e atualize-os, se necessário:"
   ]
  },
  {
   "cell_type": "code",
   "execution_count": null,
   "id": "4bf069d4",
   "metadata": {},
   "outputs": [],
   "source": [
    "name: dbt_shop # Altere do padrão, `my_new_project`\n",
    "\n",
    "...\n",
    "\n",
    "profile: dbt_shop # Altere do nome de perfil padrão, `default`\n",
    "\n",
    "...\n",
    "\n",
    "models:\n",
    "  dbt_shop: # Obrigatoriamente deve corresponder ao valor de `name:`\n",
    "..."
   ]
  },
  {
   "cell_type": "markdown",
   "id": "0d4d88b3",
   "metadata": {},
   "source": [
    "Com essa configuração concluída, você poderá começar a usar o dbt para transformar seus dados e construir modelos no BigQuery."
   ]
  },
  {
   "cell_type": "markdown",
   "id": "8f7c564c",
   "metadata": {},
   "source": [
    "## 3. Conectando ao BigQuery"
   ]
  },
  {
   "cell_type": "markdown",
   "id": "f5ad4440",
   "metadata": {},
   "source": [
    "Quando desenvolvemos localmente, o dbt se conecta ao seu data warehouse usando um perfil, que é um arquivo yaml com todos os detalhes de conexão com seu data warehouse."
   ]
  },
  {
   "cell_type": "markdown",
   "id": "340f7b02",
   "metadata": {},
   "source": [
    "1. Abra um arquivo chamado ``profiles.yml`` no diretório ``~/.dbt/``."
   ]
  },
  {
   "cell_type": "markdown",
   "id": "907224e0",
   "metadata": {},
   "source": [
    "2. Mova seu arquivo de chave do BigQuery para este diretório."
   ]
  },
  {
   "cell_type": "markdown",
   "id": "95f29baa",
   "metadata": {},
   "source": [
    "3. Copie o seguinte código e cole no novo arquivo ``profiles.yml``. Certifique-se de atualizar os valores onde está comentado."
   ]
  },
  {
   "cell_type": "code",
   "execution_count": null,
   "id": "2fafdb3d",
   "metadata": {},
   "outputs": [],
   "source": [
    "dbt_shop: # isso precisa corresponder ao perfil em seu arquivo dbt_project.yml\n",
    "  target: dev\n",
    "  outputs:\n",
    "    dev:\n",
    "      type: bigquery\n",
    "      method: service-account\n",
    "      keyfile: # Caminho completo para o seu arquivo de chave\n",
    "      project: # ID do seu projeto, exemplo dbt-shop\n",
    "      dataset: # dbt_your_name, por exemplo dbt_alan\n",
    "      threads: 1\n",
    "      timeout_seconds: 300\n",
    "      location: US\n",
    "      priority: interactive"
   ]
  },
  {
   "cell_type": "markdown",
   "id": "fd432bf7",
   "metadata": {},
   "source": [
    "4. Execute o comando ``debug`` para confirmar que você se conectou com sucesso:"
   ]
  },
  {
   "cell_type": "code",
   "execution_count": null,
   "id": "568cce56",
   "metadata": {},
   "outputs": [],
   "source": [
    "dbt debug"
   ]
  },
  {
   "cell_type": "markdown",
   "id": "edafa9d4",
   "metadata": {},
   "source": [
    "Se tudo der certo, você deve obter uma resposta como a seguir:"
   ]
  },
  {
   "cell_type": "code",
   "execution_count": null,
   "id": "748274d5",
   "metadata": {},
   "outputs": [],
   "source": [
    "Configuration:\n",
    "  profiles.yml file [OK found and valid]\n",
    "  dbt_project.yml file [OK found and valid]\n",
    "\n",
    "Required dependencies:\n",
    " - git [OK found]\n",
    "\n",
    "Connection:\n",
    "  method: service-account\n",
    "  database: dbt-shop\n",
    "  schema: dbt_alan\n",
    "  location: US\n",
    "  priority: interactive\n",
    "  timeout_seconds: 300\n",
    "  maximum_bytes_billed: None\n",
    "  execution_project: dbt-shop\n",
    "  job_retry_deadline_seconds: None\n",
    "  job_retries: 1\n",
    "  job_creation_timeout_seconds: None\n",
    "  job_execution_timeout_seconds: 300\n",
    "  gcs_bucket: None\n",
    "  Connection test: [OK connection ok]\n",
    "\n",
    "All checks passed!"
   ]
  },
  {
   "cell_type": "markdown",
   "id": "1ca10726",
   "metadata": {},
   "source": [
    "## 4. Inserindo dados"
   ]
  },
  {
   "cell_type": "markdown",
   "id": "36e633cd",
   "metadata": {},
   "source": [
    "Iremos utilizar o dataset Brazilian E-Commerce Public Dataset by Olist (https://www.kaggle.com/datasets/olistbr/brazilian-ecommerce) um conjunto de dados públicos de comércio eletrônico brasileiro disponibilizado pela empresa Olist. O dataset inclui informações de pedidos, produtos, clientes, vendedores e pagamentos de mais de 100.000 pedidos realizados entre 2016 e 2018 em diferentes categorias de produtos."
   ]
  },
  {
   "cell_type": "markdown",
   "id": "a735caf7",
   "metadata": {},
   "source": [
    "## 5. Construindo um modelo "
   ]
  },
  {
   "cell_type": "markdown",
   "id": "3c6fc7d1",
   "metadata": {},
   "source": [
    "Imagine que você precise gerar um relatório diário todas as manhãs antes das 10h para descobrir o número de pedidos por dia e representar o resultado em um dashboard (Looker ou Tableau, por exemplo).\n",
    "\n",
    "Para isso, teria que criar uma tabela daily_order_count na IU do BigQuery para servir de entrada para o Looker ou Tableau com o seguinte esquema: "
   ]
  },
  {
   "cell_type": "markdown",
   "id": "e6ac8daf",
   "metadata": {},
   "source": [
    "create table 'dbt_shop.daily_order_count' (shipping_date date, num_orders int64)"
   ]
  },
  {
   "cell_type": "markdown",
   "id": "6032a618",
   "metadata": {},
   "source": [
    "Depois, todos os dias você terá que executar esta consulta para inserir valores na tabela daily_order_count:\n",
    "\n"
   ]
  },
  {
   "cell_type": "code",
   "execution_count": null,
   "id": "251b4510",
   "metadata": {},
   "outputs": [],
   "source": [
    "insert into `shiba-ecommerce.shiba_dataset.daily_order_count`\n",
    "SELECT\n",
    "   date(shipping_limit_date) as shipping_date,\n",
    "   count(order_id) as num_orders\n",
    "FROM \n",
    "   `shiba-ecommerce.shiba_dataset.shiba_order_items`\n",
    "where \n",
    "   date(shipping_limit_date)='2018-06-13'\n",
    "group by 1"
   ]
  },
  {
   "cell_type": "markdown",
   "id": "de259a63",
   "metadata": {},
   "source": [
    "Editar e executar esse .sql para será demorado e sujeito a erros.\n",
    "\n",
    "Agora, em vez de executar manualmente a partir da IU do BigQuery, vamos criar modelos dbt (como arquivos .sql) e deixar que o dbt cuide do resto. "
   ]
  },
  {
   "cell_type": "markdown",
   "id": "b7e04316",
   "metadata": {},
   "source": [
    "Com o dbt instalado e configurado, podemos começar a usá-lo para preparar os dados e construir tabelas e visões especializadas. Para isso, precisamos criar arquivos SQL que definem como as transformações serão realizadas."
   ]
  },
  {
   "cell_type": "markdown",
   "id": "2f98d7a3",
   "metadata": {},
   "source": [
    "1. Crie um arquivo daily_order_count.sql em seu diretório *seu-projeto/models/daily_order_count.sql*. \n",
    "__Atenção__: O nome do arquivo sql deve ser exatamente igual ao nome da tabela no BigQuery, que é daily_order_count."
   ]
  },
  {
   "cell_type": "markdown",
   "id": "d8a0f14f",
   "metadata": {},
   "source": [
    "2. Copie a seguinte consulta em seu _daily_order_count.sql_"
   ]
  },
  {
   "cell_type": "markdown",
   "id": "d4f7b1d1",
   "metadata": {},
   "source": [
    "select\n",
    "   date(shipping_limit_date) as shipping_date, \n",
    "   count(order_id) as num_orders \n",
    "FROM \n",
    "   `ecommerce.order_items` \n",
    "where \n",
    "   date(shipping_limit_date)='{{ var(\"ingestion_date\") }}' \n",
    "group by 1"
   ]
  },
  {
   "cell_type": "markdown",
   "id": "b8c665bd",
   "metadata": {},
   "source": [
    "__Pergunta__: Qual a diferença entre o SQL que você executou agora comparando com o anterior?"
   ]
  },
  {
   "cell_type": "markdown",
   "id": "10cf8cd6",
   "metadata": {},
   "source": [
    "__Resposta__: Removemos a instrução insert e mudamos os valores de shipping_limit_date para um arquivo .variable '{{ var(\"ingestion_date\") }}'"
   ]
  },
  {
   "cell_type": "markdown",
   "id": "569ebc8b",
   "metadata": {},
   "source": [
    "O dbt fornece um mecanismo de variáveis para fornecer dados aos modelos para compilação. \n",
    "\n",
    "Nesse caso, as variáveis podem ser usadas para evitar que valores fiquem permanentes (hardcoded) na consulta. \n",
    "\n",
    "Para usar uma variável no modelo daily_order_count, use a função {{ var('...') }}"
   ]
  },
  {
   "cell_type": "markdown",
   "id": "90b4e3d6",
   "metadata": {},
   "source": [
    "Acabamos de criar um **modelo**.\n",
    "\n",
    "Modelo é um dos principais componentes de um projeto dbt. \n",
    "\n",
    "Cada modelo é declarado como um ``select`` e definido em um arquivo .sql. \n",
    "\n",
    "O nome do arquivo é usado como o nome do modelo. \n",
    "\n",
    "Voltando ao exemplo, o _daily_order_count.sql_ é um modelo."
   ]
  },
  {
   "cell_type": "markdown",
   "id": "98c21d0c",
   "metadata": {},
   "source": [
    "## 6. Execute seu projeto DBT"
   ]
  },
  {
   "cell_type": "markdown",
   "id": "8e071b93",
   "metadata": {},
   "source": [
    "Agora vamos usar ``dbt run`` para inserir esses valores na tabela ``daily_order_count``. \n",
    "\n",
    "Execute os seguintes comandos, um por um."
   ]
  },
  {
   "cell_type": "markdown",
   "id": "87da63f2",
   "metadata": {},
   "source": [
    "``dbt run --models shop.daily_order_count --vars \"{\"ingestion_date\": \"2018-06-29\"}\"``"
   ]
  },
  {
   "cell_type": "markdown",
   "id": "88a7c641",
   "metadata": {},
   "source": [
    "``dbt run --models shop.daily_order_count --vars \"{\"ingestion_date\": \"2018-06-12\"}\"``"
   ]
  },
  {
   "cell_type": "markdown",
   "id": "2e2597b2",
   "metadata": {},
   "source": [
    "Execute duas vezes:"
   ]
  },
  {
   "cell_type": "markdown",
   "id": "ec88e779",
   "metadata": {},
   "source": [
    "``dbt run --models shop.daily_order_count --vars \"{\"ingestion_date\": \"2018-06-13\"}\"``"
   ]
  },
  {
   "cell_type": "markdown",
   "id": "ebfbea4e",
   "metadata": {},
   "source": [
    "## 7. Desafio"
   ]
  },
  {
   "cell_type": "markdown",
   "id": "c0c42967",
   "metadata": {},
   "source": [
    "1. Crie uma tabela _orders_by_year_ a partir de _orders_ que agrupa a quantidade de pedidos por ano, considerando a coluna _order_approved_at_"
   ]
  },
  {
   "cell_type": "markdown",
   "id": "aa520524",
   "metadata": {},
   "source": [
    "2. Crie uma visão que agrega os totais de pedidos por estado. Considere as tabelas _customers_ para obter os estados (coluna _customer_state_) e _orders_ para contabilizar a quantidade de pedidos."
   ]
  },
  {
   "cell_type": "markdown",
   "id": "9c3ad0cc",
   "metadata": {},
   "source": [
    "3. Crie uma nova visão chamada _customers_by_region_ que utiliza os dados da tabela _customers_with_region_. A visão deve realizar uma agregação por região e contar o número de clientes em cada uma delas."
   ]
  },
  {
   "cell_type": "markdown",
   "id": "b1ddd98b",
   "metadata": {},
   "source": [
    "4. Crie uma nova tabela chamada _customers_with_region_ que utiliza os dados da tabela customers como base e adiciona uma nova coluna region que é calculada a partir da coluna customer_state. \n",
    " \n",
    " **Dica**: utilize uma expressão CASE.\n",
    " \n",
    " **Exemplo**:\n",
    " \n",
    " CASE\n",
    "        WHEN state IN ('SP', 'RJ') THEN 'Sudeste'\n",
    "        \n",
    " CASE\n",
    "        WHEN state IN ('CE', 'PI', 'MA', 'BA') THEN 'Nordeste'"
   ]
  },
  {
   "cell_type": "markdown",
   "id": "d184f2a7",
   "metadata": {},
   "source": [
    "5. Crie um novo modelo no diretório models/ com o nome *items_costs.sql* e defina uma consulta SQL que selecione algumas colunas da tabela order_items e calcule o preço total de cada item."
   ]
  },
  {
   "cell_type": "markdown",
   "id": "e233dfde",
   "metadata": {},
   "source": [
    "6. Crie um novo modelo no diretório models/ com o nome _orders_costs.sql_ e defina uma consulta SQL que agregue os dados da tabela orders e da tabela order_items para calcular o preço total de cada pedido."
   ]
  },
  {
   "cell_type": "markdown",
   "id": "86a97b8c",
   "metadata": {},
   "source": [
    "## Testes no DBT"
   ]
  },
  {
   "cell_type": "markdown",
   "id": "735b7934",
   "metadata": {},
   "source": [
    "Quando você executa o comando dbt init para criar um novo projeto, o dbt pode gerar alguns testes prontos para garantir que o seu projeto esteja configurado corretamente e que o dbt esteja funcionando. \n",
    "\n",
    "Esses testes podem ser encontrados no arquivo models/schema.yml do seu projeto.\n",
    "\n",
    "Os testes do dbt são escritos usando a sintaxe do jinja, uma linguagem de template que permite escrever código SQL dinâmico."
   ]
  },
  {
   "cell_type": "markdown",
   "id": "353d6b1a",
   "metadata": {},
   "source": [
    "Por exemplo, o teste ``not_null_my_first_dbt_model_id`` é gerado automaticamente pelo ``dbt init`` para verificar se a coluna id na tabela my_first_dbt_model é definida como NOT NULL. Esse teste pode ser encontrado no diretório tests/schema_test.yml após a criação do novo projeto pelo dbt init.\n",
    "\n",
    "Aqui está um exemplo do arquivo schema.yml que contém o teste not_null_my_first_dbt_model_id:"
   ]
  },
  {
   "cell_type": "code",
   "execution_count": null,
   "id": "1b0d49e4",
   "metadata": {},
   "outputs": [],
   "source": [
    "version: 2\n",
    "\n",
    "schema-tests:\n",
    "  - name: not_null_my_first_dbt_model_id\n",
    "    description: Verify that the `id` column in `my_first_dbt_model` is defined as NOT NULL\n",
    "    models: my_first_dbt_model\n",
    "    columns:\n",
    "      - name: id\n",
    "        tests:\n",
    "          - not_null\n"
   ]
  },
  {
   "cell_type": "markdown",
   "id": "9debaeb2",
   "metadata": {},
   "source": [
    "Este teste verifica a coluna id para garantir que ela não é nula. Se a coluna id não for definida como NOT NULL, o teste falhará e você receberá uma mensagem de erro informando que o teste falhou e qual a causa do problema."
   ]
  },
  {
   "cell_type": "markdown",
   "id": "fcb875a3",
   "metadata": {},
   "source": [
    "### Adicionando testes"
   ]
  },
  {
   "cell_type": "markdown",
   "id": "937697b5",
   "metadata": {},
   "source": [
    "Você pode editar os arquivos para personalizar os testes ou adicionar seus próprios testes. \n"
   ]
  },
  {
   "cell_type": "markdown",
   "id": "5d06f1d6",
   "metadata": {},
   "source": [
    "Adicionar testes a um projeto ajuda a validar se seus modelos estão funcionando corretamente e se as consultas SQL estão retornando os resultados esperados. Os testes também podem incluir verificações de consistência de dados, como verificar se uma tabela tem a coluna correta ou se o tipo de dados de uma coluna é o esperado.\n",
    "\n",
    "Para adicionar testes ao seu projeto, altere o arquivo models/schema.yml"
   ]
  },
  {
   "cell_type": "markdown",
   "id": "88948458",
   "metadata": {},
   "source": [
    "O dbt oferece quatro testes genéricos: **unique**, **not_null**, **accepted_values**, e **relationships**. "
   ]
  },
  {
   "cell_type": "markdown",
   "id": "afe0981d",
   "metadata": {},
   "source": [
    "Adicione o seguinte conteúdo ao arquivo models/schema.yml"
   ]
  },
  {
   "cell_type": "code",
   "execution_count": null,
   "id": "db33d0d3",
   "metadata": {},
   "outputs": [],
   "source": [
    "- name: customers\n",
    "    columns:\n",
    "      - name: customer_id\n",
    "        tests:\n",
    "          - unique\n",
    "          - not_null"
   ]
  },
  {
   "cell_type": "code",
   "execution_count": null,
   "id": "260b7e9d",
   "metadata": {},
   "outputs": [],
   "source": [
    "- name: orders\n",
    "    columns:\n",
    "      - name: order_id\n",
    "        tests:\n",
    "          - unique\n",
    "          - not_null\n",
    "      - name: status\n",
    "        tests:\n",
    "          - accepted_values:\n",
    "              values: ['placed', 'shipped', 'completed', 'return_pending', 'returned']\n",
    "      - name: customer_id\n",
    "        tests:\n",
    "          - not_null\n",
    "          - relationships:\n",
    "              to: ref('customers')\n",
    "              field: customer_id"
   ]
  },
  {
   "cell_type": "code",
   "execution_count": 15,
   "id": "8bc0e30d",
   "metadata": {},
   "outputs": [],
   "source": [
    "#Vamos criar um script de teste sql que verifique se alguma das linhas do cliente foi duplicada ou perdida. \n",
    "#Se a consulta retornar um ou mais registros, os testes falharão."
   ]
  },
  {
   "cell_type": "markdown",
   "id": "4115dc65",
   "metadata": {},
   "source": [
    "version: 2\n",
    "\n",
    "models:\n",
    "  - name: customer_orders\n",
    "    columns:\n",
    "      - name: customer_id\n",
    "        tests:\n",
    "          - not_null\n",
    "      - name: order_id\n",
    "        tests:\n",
    "          - unique\n",
    "      - name: order_status\n",
    "        tests:\n",
    "          - accepted_values:\n",
    "              values: ['delivered', 'invoiced', 'shipped', 'processing', 'canceled', 'unavailable']"
   ]
  },
  {
   "cell_type": "markdown",
   "id": "79fe9d98",
   "metadata": {},
   "source": [
    "Para executar os testes, você pode usar o comando ``dbt test``."
   ]
  },
  {
   "cell_type": "markdown",
   "id": "41faa9e4",
   "metadata": {},
   "source": [
    "Quando você executa o ``dbt test``, o dbt itera pelos arquivos YAML e cria uma consulta para cada teste. \n",
    "\n",
    "Cada consulta retornará o número de registros que falharam no teste. Se esse número for 0, o teste foi bem-sucedido."
   ]
  },
  {
   "cell_type": "markdown",
   "id": "ef0050ce",
   "metadata": {},
   "source": [
    "Execute dbt teste confirme se todos os seus testes foram aprovados.\n",
    "\n"
   ]
  },
  {
   "cell_type": "code",
   "execution_count": null,
   "id": "7d6a1d1e",
   "metadata": {},
   "outputs": [],
   "source": [
    "!dbt test"
   ]
  },
  {
   "cell_type": "code",
   "execution_count": null,
   "id": "207acf7f",
   "metadata": {},
   "outputs": [],
   "source": []
  }
 ],
 "metadata": {
  "kernelspec": {
   "display_name": "Python 3",
   "language": "python",
   "name": "python3"
  },
  "language_info": {
   "codemirror_mode": {
    "name": "ipython",
    "version": 3
   },
   "file_extension": ".py",
   "mimetype": "text/x-python",
   "name": "python",
   "nbconvert_exporter": "python",
   "pygments_lexer": "ipython3",
   "version": "3.9.1"
  }
 },
 "nbformat": 4,
 "nbformat_minor": 5
}
